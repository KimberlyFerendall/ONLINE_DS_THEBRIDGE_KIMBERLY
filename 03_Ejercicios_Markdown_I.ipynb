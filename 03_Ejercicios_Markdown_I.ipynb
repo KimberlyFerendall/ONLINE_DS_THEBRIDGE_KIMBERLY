{
 "cells": [
  {
   "cell_type": "markdown",
   "id": "30a2c01b",
   "metadata": {
    "id": "30a2c01b"
   },
   "source": [
    "# EJERCICIOS MARKDOWN (I)"
   ]
  },
  {
   "cell_type": "markdown",
   "id": "e165fb0c",
   "metadata": {
    "id": "e165fb0c"
   },
   "source": [
    "Aquí tienes cinco sencillos ejercicios para practicar lo aprendido en la primera sesión de Markdown. Utiliza las celdas que hay debajo dec cada enunciado y recuerda convertirlas a Markdown primero ;-)"
   ]
  },
  {
   "cell_type": "markdown",
   "id": "5f74096f",
   "metadata": {
    "id": "5f74096f"
   },
   "source": [
    "\n",
    "\n",
    "### Ejercicio 1: Cabeceras\n",
    "Crea las siguientes cabeceras:\n",
    "\n",
    "1. Una cabecera de nivel 1 con el texto \"Ciencia de Datos\".\n",
    "2. Una cabecera de nivel 2 con el texto \"Introducción\".\n",
    "3. Una cabecera de nivel 3 con el texto \"Herramientas\"."
   ]
  },
  {
   "cell_type": "markdown",
   "id": "VMO8j7_VlfdC",
   "metadata": {
    "id": "VMO8j7_VlfdC"
   },
   "source": [
    "# Ciencia de Datos"
   ]
  },
  {
   "cell_type": "markdown",
   "id": "7c642ffd-d4b7-4623-b94b-6c29b638f16c",
   "metadata": {
    "colab": {
     "base_uri": "https://localhost:8080/"
    },
    "id": "b3a2fc32",
    "outputId": "c83ceba0-b719-463d-b56e-056705e25824"
   },
   "source": [
    "## Introducción\n",
    "### Herramientas"
   ]
  },
  {
   "cell_type": "markdown",
   "id": "4b636168",
   "metadata": {
    "id": "4b636168"
   },
   "source": [
    "### Ejercicio 2: Estilos de texto\n",
    "Escribe una frase que contenga las siguientes características:\n",
    "\n",
    "1. La palabra \"Markdown\" en negritas.\n",
    "2. La palabra \"Jupyter\" en cursivas.\n",
    "3. La palabra \"Python\" en negritas y cursivas."
   ]
  },
  {
   "cell_type": "markdown",
   "id": "fde10e7c-210c-4a2c-99ed-e1c975564b33",
   "metadata": {
    "id": "b0fd666e"
   },
   "source": [
    "**Markdown**  *Jupyter*  ***Python***"
   ]
  },
  {
   "cell_type": "markdown",
   "id": "61fd2979",
   "metadata": {
    "id": "61fd2979"
   },
   "source": [
    "### Ejercicio 3: Resaltados y HTML\n",
    "Crea una línea que contenga:\n",
    "\n",
    "1. La palabra \"resaltado\" con un fondo amarillo usando Markdown.\n",
    "2. La palabra \"color\" en azul usando HTML.\n",
    "\n",
    "Para este ejercicio tendrás que buscar un poco más en internet, venga que tú puedes."
   ]
  },
  {
   "cell_type": "markdown",
   "id": "16c090e6-3b8b-4da6-b9a7-fd8b2a2cb0bd",
   "metadata": {
    "id": "7aa81d0f"
   },
   "source": [
    "<code style=\"background:yellow\">Resaltado</code>\n",
    "<span style=\"background-color:blue\">color</span>"
   ]
  },
  {
   "cell_type": "markdown",
   "id": "a91386ca",
   "metadata": {
    "id": "a91386ca"
   },
   "source": [
    "### Ejercicio 4: Citas\n",
    "Incluye la siguiente cita:\n",
    "\n",
    "> La Ciencia de Datos es el petróleo del siglo XXI.\n",
    "\n",
    "En uno y dos niveles de cita"
   ]
  },
  {
   "cell_type": "markdown",
   "id": "a0eb9178-66b8-4d3e-be44-bd8512a46181",
   "metadata": {
    "id": "97aca4a0"
   },
   "source": [
    ">La Ciencia de Datos es el petróleo del siglo XXI\n",
    "\n",
    ">La Ciencia de Datos es\n",
    ">>el petróleo del siglo XXI"
   ]
  },
  {
   "cell_type": "markdown",
   "id": "35f0595a",
   "metadata": {
    "id": "35f0595a"
   },
   "source": [
    "### Ejercicio 5: Combinando todo\n",
    "Crea un texto que combine lo siguiente:\n",
    "\n",
    "1. Una cabecera de nivel 2 con el texto \"Curso de Markdown\".\n",
    "2. Una frase que contenga la palabra \"importante\" en negritas.\n",
    "3. Una cita que diga: \"Aprender es crecer\".\n",
    "4. La palabra \"ejemplo\" en cursivas y con un fondo verde usando HTML.\n",
    "\n",
    "Nota: Si no has sido capaz de encontrar como dar color de fondo usando HTML quizás <span style=\"background-color:yellow\">*tienes que buscar más cerca de ti*</span>\n"
   ]
  },
  {
   "cell_type": "markdown",
   "id": "b6e8524c-95ac-45b5-9d0b-c086d4c5ec30",
   "metadata": {
    "id": "919b170c"
   },
   "source": [
    "## Curso de Markdown\n",
    "**Importante** \n",
    "\n",
    ">Aprender es crecer\n",
    "\n",
    "<span style=\"background-color:green\">*ejemplo*</span> Realizando un Bootcamp en The Bridge"
   ]
  },
  {
   "cell_type": "code",
   "execution_count": null,
   "id": "03e547bf-ebd4-402d-af87-6d94ab42b86b",
   "metadata": {},
   "outputs": [],
   "source": []
  }
 ],
 "metadata": {
  "colab": {
   "provenance": []
  },
  "kernelspec": {
   "display_name": "Python 3 (ipykernel)",
   "language": "python",
   "name": "python3"
  },
  "language_info": {
   "codemirror_mode": {
    "name": "ipython",
    "version": 3
   },
   "file_extension": ".py",
   "mimetype": "text/x-python",
   "name": "python",
   "nbconvert_exporter": "python",
   "pygments_lexer": "ipython3",
   "version": "3.11.7"
  }
 },
 "nbformat": 4,
 "nbformat_minor": 5
}
